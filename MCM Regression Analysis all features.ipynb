{
 "cells": [
  {
   "cell_type": "code",
   "execution_count": null,
   "metadata": {},
   "outputs": [],
   "source": [
    "# Final Project\n",
    "# MCM Regression Analysis - all features \n",
    "\n",
    "# Objetive - Estimate conversion (PTP) for Outbound team in a Collections Call Center \n",
    "\n",
    "# This approach includes all variables from data set and all observations "
   ]
  },
  {
   "cell_type": "code",
   "execution_count": null,
   "metadata": {},
   "outputs": [],
   "source": [
    "# Summary of findings\n",
    "\n",
    "# CLEANINIG DATASET\n",
    "# With visualization of Histograms and Scatter plots I can anticipate DIALS above 75K may not be relevant for this project \n",
    "# Hence suggest to remove values above 75K dials to gain accuracy \n",
    "# this can be a possible scenario to increase results from model\n",
    "\n",
    "# Production hours also can be reduced down to 50 hours, and drop values higher than that as those can be considered noise\n",
    "# There also seems to be noise in RPC data, due to outliers. Suggest to take a closer look to this valiable \n",
    "\n",
    "# Covariance Matrix\n",
    "# It indicates that changes in one variable are not strongly associated with changes in a second variable\n",
    "# due to low values in graph\n",
    "\n"
   ]
  },
  {
   "cell_type": "code",
   "execution_count": null,
   "metadata": {},
   "outputs": [],
   "source": [
    "# Observations made throughout the analysis\n",
    "\n",
    "# Datasets created\n",
    "# 1: overhead --> is the original dataset\n",
    "# 2: overhead2 --> clean ds and rename columns\n"
   ]
  },
  {
   "cell_type": "code",
   "execution_count": null,
   "metadata": {},
   "outputs": [],
   "source": [
    "# Future Recomendations\n",
    "\n",
    "# Given the high accuracy of the RF model 99.9%, concerns about overfitting but also explains \"high linearity\" of the data\n",
    "# Consider testing model with all variables, maybe will reduce accuracy however, model could be more robust to face changes\n",
    "# from the datasource. For example if we add more observation to the data set to put model in production, and/or to predict\n",
    "# PTP from different teams which handle different inventory characteristics"
   ]
  },
  {
   "cell_type": "code",
   "execution_count": 1,
   "metadata": {},
   "outputs": [],
   "source": [
    "# Imports\n",
    "import math\n",
    "import pandas as pd  # --> panel data\n",
    "import numpy as np   # --> to do math 'mathy' things\n",
    "import math\n",
    "from math import sqrt\n",
    "import scipy\n",
    "import matplotlib as mp\n",
    "import matplotlib.pyplot as plt\n",
    "import seaborn as sn\n",
    "import datetime\n",
    "import sklearn\n",
    "import random\n",
    "\n",
    "#Estimators \n",
    "from sklearn.ensemble import RandomForestRegressor\n",
    "from sklearn.linear_model import LinearRegression\n",
    "from sklearn.svm import SVR\n",
    "from sklearn import linear_model\n",
    "\n",
    "# Model Metrics\n",
    "from sklearn.metrics import mean_squared_error\n",
    "from sklearn.metrics import r2_score\n",
    "from sklearn.model_selection import cross_val_score\n",
    "\n",
    "# Cross Validation\n",
    "from sklearn.model_selection import train_test_split\n",
    "\n",
    "# Feature Engineering\n",
    "from sklearn.decomposition import PCA \n",
    "from sklearn import preprocessing \n",
    "\n"
   ]
  },
  {
   "cell_type": "code",
   "execution_count": 2,
   "metadata": {},
   "outputs": [],
   "source": [
    "# Clasification Models\n",
    "# Add Sci Kit\n",
    "from sklearn.model_selection import train_test_split # to split the data into two parts\n",
    "from sklearn.linear_model import LogisticRegression # to apply the Logistic regression\n",
    "from sklearn.feature_selection import RFE\n",
    "from sklearn.model_selection import KFold # for cross validation\n",
    "from sklearn.model_selection import GridSearchCV # for tuning parameter\n",
    "from sklearn.model_selection import RandomizedSearchCV  # Randomized search on hyper parameters.\n",
    "from sklearn.preprocessing import StandardScaler # for normalization\n",
    "from sklearn.pipeline import Pipeline \n",
    "from sklearn.ensemble import RandomForestClassifier\n",
    "from sklearn.model_selection import cross_val_score\n",
    "from sklearn.metrics import classification_report\n",
    "from sklearn.metrics import confusion_matrix\n",
    "from sklearn.neighbors import KNeighborsClassifier #KNN\n",
    "from sklearn.tree import DecisionTreeClassifier\n",
    "from sklearn.ensemble import ExtraTreesClassifier\n",
    "from sklearn.feature_selection import SelectFromModel\n",
    "from sklearn import metrics # for the check the error and accuracy of the model\n",
    "import warnings\n",
    "warnings.filterwarnings(\"ignore\", category=FutureWarning)"
   ]
  },
  {
   "cell_type": "code",
   "execution_count": 3,
   "metadata": {},
   "outputs": [],
   "source": [
    "# Import and Prepare the Data "
   ]
  },
  {
   "cell_type": "code",
   "execution_count": 4,
   "metadata": {},
   "outputs": [],
   "source": [
    "overhead = pd.read_csv (r'C:\\Users\\Milena\\Documents\\Big Data\\Caso Final\\Overhead_data_frame.csv', header =0)"
   ]
  },
  {
   "cell_type": "code",
   "execution_count": 5,
   "metadata": {},
   "outputs": [
    {
     "data": {
      "text/html": [
       "<div>\n",
       "<style scoped>\n",
       "    .dataframe tbody tr th:only-of-type {\n",
       "        vertical-align: middle;\n",
       "    }\n",
       "\n",
       "    .dataframe tbody tr th {\n",
       "        vertical-align: top;\n",
       "    }\n",
       "\n",
       "    .dataframe thead th {\n",
       "        text-align: right;\n",
       "    }\n",
       "</style>\n",
       "<table border=\"1\" class=\"dataframe\">\n",
       "  <thead>\n",
       "    <tr style=\"text-align: right;\">\n",
       "      <th></th>\n",
       "      <th>ACT_DATE</th>\n",
       "      <th>DAY</th>\n",
       "      <th>PST TIME</th>\n",
       "      <th>DIALS</th>\n",
       "      <th>RPC</th>\n",
       "      <th>PTP</th>\n",
       "      <th>TSRCOUNT</th>\n",
       "      <th>PRD HOURS</th>\n",
       "    </tr>\n",
       "  </thead>\n",
       "  <tbody>\n",
       "    <tr>\n",
       "      <td>0</td>\n",
       "      <td>Jan 2, 2019</td>\n",
       "      <td>Wed</td>\n",
       "      <td>5</td>\n",
       "      <td>2973</td>\n",
       "      <td>23</td>\n",
       "      <td>3</td>\n",
       "      <td>12</td>\n",
       "      <td>8.54</td>\n",
       "    </tr>\n",
       "    <tr>\n",
       "      <td>1</td>\n",
       "      <td>Jan 2, 2019</td>\n",
       "      <td>Wed</td>\n",
       "      <td>6</td>\n",
       "      <td>3014</td>\n",
       "      <td>24</td>\n",
       "      <td>1</td>\n",
       "      <td>11</td>\n",
       "      <td>7.52</td>\n",
       "    </tr>\n",
       "    <tr>\n",
       "      <td>2</td>\n",
       "      <td>Jan 2, 2019</td>\n",
       "      <td>Wed</td>\n",
       "      <td>7</td>\n",
       "      <td>3903</td>\n",
       "      <td>20</td>\n",
       "      <td>0</td>\n",
       "      <td>10</td>\n",
       "      <td>7.92</td>\n",
       "    </tr>\n",
       "    <tr>\n",
       "      <td>3</td>\n",
       "      <td>Jan 2, 2019</td>\n",
       "      <td>Wed</td>\n",
       "      <td>8</td>\n",
       "      <td>2919</td>\n",
       "      <td>31</td>\n",
       "      <td>2</td>\n",
       "      <td>13</td>\n",
       "      <td>8.08</td>\n",
       "    </tr>\n",
       "    <tr>\n",
       "      <td>4</td>\n",
       "      <td>Jan 2, 2019</td>\n",
       "      <td>Wed</td>\n",
       "      <td>9</td>\n",
       "      <td>1756</td>\n",
       "      <td>48</td>\n",
       "      <td>4</td>\n",
       "      <td>19</td>\n",
       "      <td>11.57</td>\n",
       "    </tr>\n",
       "  </tbody>\n",
       "</table>\n",
       "</div>"
      ],
      "text/plain": [
       "      ACT_DATE  DAY  PST TIME  DIALS  RPC  PTP  TSRCOUNT  PRD HOURS\n",
       "0  Jan 2, 2019  Wed         5   2973   23    3        12       8.54\n",
       "1  Jan 2, 2019  Wed         6   3014   24    1        11       7.52\n",
       "2  Jan 2, 2019  Wed         7   3903   20    0        10       7.92\n",
       "3  Jan 2, 2019  Wed         8   2919   31    2        13       8.08\n",
       "4  Jan 2, 2019  Wed         9   1756   48    4        19      11.57"
      ]
     },
     "execution_count": 5,
     "metadata": {},
     "output_type": "execute_result"
    }
   ],
   "source": [
    "overhead.head()"
   ]
  },
  {
   "cell_type": "code",
   "execution_count": 6,
   "metadata": {},
   "outputs": [
    {
     "data": {
      "text/html": [
       "<div>\n",
       "<style scoped>\n",
       "    .dataframe tbody tr th:only-of-type {\n",
       "        vertical-align: middle;\n",
       "    }\n",
       "\n",
       "    .dataframe tbody tr th {\n",
       "        vertical-align: top;\n",
       "    }\n",
       "\n",
       "    .dataframe thead th {\n",
       "        text-align: right;\n",
       "    }\n",
       "</style>\n",
       "<table border=\"1\" class=\"dataframe\">\n",
       "  <thead>\n",
       "    <tr style=\"text-align: right;\">\n",
       "      <th></th>\n",
       "      <th>PST TIME</th>\n",
       "      <th>DIALS</th>\n",
       "      <th>RPC</th>\n",
       "      <th>PTP</th>\n",
       "      <th>TSRCOUNT</th>\n",
       "      <th>PRD HOURS</th>\n",
       "    </tr>\n",
       "  </thead>\n",
       "  <tbody>\n",
       "    <tr>\n",
       "      <td>count</td>\n",
       "      <td>4810.000000</td>\n",
       "      <td>4810.000000</td>\n",
       "      <td>4810.000000</td>\n",
       "      <td>4810.000000</td>\n",
       "      <td>4810.000000</td>\n",
       "      <td>4787.000000</td>\n",
       "    </tr>\n",
       "    <tr>\n",
       "      <td>mean</td>\n",
       "      <td>11.147817</td>\n",
       "      <td>6986.770062</td>\n",
       "      <td>21.786694</td>\n",
       "      <td>1.123077</td>\n",
       "      <td>15.018087</td>\n",
       "      <td>8.735206</td>\n",
       "    </tr>\n",
       "    <tr>\n",
       "      <td>std</td>\n",
       "      <td>3.760503</td>\n",
       "      <td>13903.554482</td>\n",
       "      <td>19.492293</td>\n",
       "      <td>1.483334</td>\n",
       "      <td>10.841851</td>\n",
       "      <td>7.456876</td>\n",
       "    </tr>\n",
       "    <tr>\n",
       "      <td>min</td>\n",
       "      <td>5.000000</td>\n",
       "      <td>1.000000</td>\n",
       "      <td>0.000000</td>\n",
       "      <td>0.000000</td>\n",
       "      <td>0.000000</td>\n",
       "      <td>0.000000</td>\n",
       "    </tr>\n",
       "    <tr>\n",
       "      <td>25%</td>\n",
       "      <td>8.000000</td>\n",
       "      <td>992.500000</td>\n",
       "      <td>7.000000</td>\n",
       "      <td>0.000000</td>\n",
       "      <td>6.000000</td>\n",
       "      <td>2.930000</td>\n",
       "    </tr>\n",
       "    <tr>\n",
       "      <td>50%</td>\n",
       "      <td>11.000000</td>\n",
       "      <td>2958.500000</td>\n",
       "      <td>17.000000</td>\n",
       "      <td>1.000000</td>\n",
       "      <td>13.000000</td>\n",
       "      <td>7.050000</td>\n",
       "    </tr>\n",
       "    <tr>\n",
       "      <td>75%</td>\n",
       "      <td>14.000000</td>\n",
       "      <td>7404.500000</td>\n",
       "      <td>32.000000</td>\n",
       "      <td>2.000000</td>\n",
       "      <td>21.000000</td>\n",
       "      <td>12.540000</td>\n",
       "    </tr>\n",
       "    <tr>\n",
       "      <td>max</td>\n",
       "      <td>20.000000</td>\n",
       "      <td>174301.000000</td>\n",
       "      <td>162.000000</td>\n",
       "      <td>11.000000</td>\n",
       "      <td>72.000000</td>\n",
       "      <td>54.160000</td>\n",
       "    </tr>\n",
       "  </tbody>\n",
       "</table>\n",
       "</div>"
      ],
      "text/plain": [
       "          PST TIME          DIALS          RPC          PTP     TSRCOUNT  \\\n",
       "count  4810.000000    4810.000000  4810.000000  4810.000000  4810.000000   \n",
       "mean     11.147817    6986.770062    21.786694     1.123077    15.018087   \n",
       "std       3.760503   13903.554482    19.492293     1.483334    10.841851   \n",
       "min       5.000000       1.000000     0.000000     0.000000     0.000000   \n",
       "25%       8.000000     992.500000     7.000000     0.000000     6.000000   \n",
       "50%      11.000000    2958.500000    17.000000     1.000000    13.000000   \n",
       "75%      14.000000    7404.500000    32.000000     2.000000    21.000000   \n",
       "max      20.000000  174301.000000   162.000000    11.000000    72.000000   \n",
       "\n",
       "         PRD HOURS  \n",
       "count  4787.000000  \n",
       "mean      8.735206  \n",
       "std       7.456876  \n",
       "min       0.000000  \n",
       "25%       2.930000  \n",
       "50%       7.050000  \n",
       "75%      12.540000  \n",
       "max      54.160000  "
      ]
     },
     "execution_count": 6,
     "metadata": {},
     "output_type": "execute_result"
    }
   ],
   "source": [
    "overhead.describe()\n",
    "# Other than DATE, There seems to be 1 nominal column, not numeric... DAY\n",
    "# Also observing different count in Production Hours column"
   ]
  },
  {
   "cell_type": "code",
   "execution_count": 7,
   "metadata": {},
   "outputs": [
    {
     "name": "stdout",
     "output_type": "stream",
     "text": [
      "<class 'pandas.core.frame.DataFrame'>\n",
      "RangeIndex: 4810 entries, 0 to 4809\n",
      "Data columns (total 8 columns):\n",
      "ACT_DATE     4810 non-null object\n",
      "DAY          4810 non-null object\n",
      "PST TIME     4810 non-null int64\n",
      "DIALS        4810 non-null int64\n",
      "RPC          4810 non-null int64\n",
      "PTP          4810 non-null int64\n",
      "TSRCOUNT     4810 non-null int64\n",
      "PRD HOURS    4787 non-null float64\n",
      "dtypes: float64(1), int64(5), object(2)\n",
      "memory usage: 300.8+ KB\n"
     ]
    }
   ],
   "source": [
    "overhead.info()"
   ]
  },
  {
   "cell_type": "code",
   "execution_count": 8,
   "metadata": {},
   "outputs": [],
   "source": [
    "# Change data type for DAY and PST Time, \"from Object to int64\"\n",
    "\n",
    "\n",
    "def WEEKDAY(argument):\n",
    "    switcher = {\n",
    "        \"Mon\": 1,\n",
    "        \"Tue\": 2,\n",
    "        \"Wed\": 3,\n",
    "        \"Thu\": 4,\n",
    "        \"Fri\": 5,\n",
    "        \"Sat\": 6,\n",
    "        \"Sun\": 7\n",
    "    }\n",
    "    return switcher.get(argument, \"nothing\")"
   ]
  },
  {
   "cell_type": "code",
   "execution_count": 9,
   "metadata": {},
   "outputs": [],
   "source": [
    "# Create WEEKDAY dictionary \n",
    "WEEKDAY_dictionary ={\"Mon\": 1,\"Tue\": 2,\"Wed\": 3,\"Thu\": 4,\"Fri\": 5,\"Sat\": 6,\"Sun\": 7}"
   ]
  },
  {
   "cell_type": "code",
   "execution_count": 10,
   "metadata": {},
   "outputs": [],
   "source": [
    "# Change WEEKDAY values in the dataset \n",
    "overhead['DAY'] = overhead['DAY'].map(WEEKDAY_dictionary)"
   ]
  },
  {
   "cell_type": "code",
   "execution_count": 11,
   "metadata": {},
   "outputs": [
    {
     "name": "stdout",
     "output_type": "stream",
     "text": [
      "<class 'pandas.core.frame.DataFrame'>\n",
      "RangeIndex: 4810 entries, 0 to 4809\n",
      "Data columns (total 8 columns):\n",
      "ACT_DATE     4810 non-null object\n",
      "DAY          4810 non-null int64\n",
      "PST TIME     4810 non-null int64\n",
      "DIALS        4810 non-null int64\n",
      "RPC          4810 non-null int64\n",
      "PTP          4810 non-null int64\n",
      "TSRCOUNT     4810 non-null int64\n",
      "PRD HOURS    4787 non-null float64\n",
      "dtypes: float64(1), int64(6), object(1)\n",
      "memory usage: 300.8+ KB\n"
     ]
    }
   ],
   "source": [
    "overhead.info()"
   ]
  },
  {
   "cell_type": "code",
   "execution_count": 12,
   "metadata": {},
   "outputs": [
    {
     "name": "stdout",
     "output_type": "stream",
     "text": [
      "          ACT_DATE  DAY  PST TIME  DIALS  RPC  PTP  TSRCOUNT  PRD HOURS\n",
      "0      Jan 2, 2019    3         5   2973   23    3        12       8.54\n",
      "1      Jan 2, 2019    3         6   3014   24    1        11       7.52\n",
      "2      Jan 2, 2019    3         7   3903   20    0        10       7.92\n",
      "3      Jan 2, 2019    3         8   2919   31    2        13       8.08\n",
      "4      Jan 2, 2019    3         9   1756   48    4        19      11.57\n",
      "...            ...  ...       ...    ...  ...  ...       ...        ...\n",
      "4805  Mar 21, 2020    6        14   6059   69    2        21      14.57\n",
      "4806  Mar 21, 2020    6        15  10452   44    1        22      11.59\n",
      "4807  Mar 21, 2020    6        16   6522   39    1        22      12.54\n",
      "4808  Mar 21, 2020    6        17   7687   31    2        21      10.61\n",
      "4809  Mar 21, 2020    6        18     11    2    1         3       0.18\n",
      "\n",
      "[4810 rows x 8 columns]\n"
     ]
    }
   ],
   "source": [
    "print(overhead)"
   ]
  },
  {
   "cell_type": "code",
   "execution_count": 13,
   "metadata": {},
   "outputs": [],
   "source": [
    "from datetime import datetime"
   ]
  },
  {
   "cell_type": "code",
   "execution_count": 14,
   "metadata": {},
   "outputs": [],
   "source": [
    "overhead[\"ACT_DATE\"] = pd.to_datetime(overhead[\"ACT_DATE\"]) # changed ACT_DATE to date format"
   ]
  },
  {
   "cell_type": "code",
   "execution_count": 15,
   "metadata": {},
   "outputs": [
    {
     "data": {
      "text/plain": [
       "0      2019-01-02\n",
       "1      2019-01-02\n",
       "2      2019-01-02\n",
       "3      2019-01-02\n",
       "4      2019-01-02\n",
       "          ...    \n",
       "4805   2020-03-21\n",
       "4806   2020-03-21\n",
       "4807   2020-03-21\n",
       "4808   2020-03-21\n",
       "4809   2020-03-21\n",
       "Name: ACT_DATE, Length: 4810, dtype: datetime64[ns]"
      ]
     },
     "execution_count": 15,
     "metadata": {},
     "output_type": "execute_result"
    }
   ],
   "source": [
    "overhead[\"ACT_DATE\"]"
   ]
  },
  {
   "cell_type": "code",
   "execution_count": 16,
   "metadata": {},
   "outputs": [
    {
     "data": {
      "text/plain": [
       "0       1\n",
       "1       1\n",
       "2       1\n",
       "3       1\n",
       "4       1\n",
       "       ..\n",
       "4805    3\n",
       "4806    3\n",
       "4807    3\n",
       "4808    3\n",
       "4809    3\n",
       "Name: ACT_DATE, Length: 4810, dtype: int64"
      ]
     },
     "execution_count": 16,
     "metadata": {},
     "output_type": "execute_result"
    }
   ],
   "source": [
    "overhead[\"ACT_DATE\"].dt.month # extraxt month number from date format"
   ]
  },
  {
   "cell_type": "code",
   "execution_count": 17,
   "metadata": {},
   "outputs": [],
   "source": [
    "# Change ACT_DATE values in the dataset \n",
    "overhead['ACT_DATE'] = overhead[\"ACT_DATE\"].dt.month"
   ]
  },
  {
   "cell_type": "code",
   "execution_count": 18,
   "metadata": {},
   "outputs": [
    {
     "name": "stdout",
     "output_type": "stream",
     "text": [
      "<class 'pandas.core.frame.DataFrame'>\n",
      "RangeIndex: 4810 entries, 0 to 4809\n",
      "Data columns (total 8 columns):\n",
      "ACT_DATE     4810 non-null int64\n",
      "DAY          4810 non-null int64\n",
      "PST TIME     4810 non-null int64\n",
      "DIALS        4810 non-null int64\n",
      "RPC          4810 non-null int64\n",
      "PTP          4810 non-null int64\n",
      "TSRCOUNT     4810 non-null int64\n",
      "PRD HOURS    4787 non-null float64\n",
      "dtypes: float64(1), int64(7)\n",
      "memory usage: 300.8 KB\n"
     ]
    }
   ],
   "source": [
    "overhead.info() # verify ACT_DATE is a numeric value -- int64"
   ]
  },
  {
   "cell_type": "code",
   "execution_count": 19,
   "metadata": {},
   "outputs": [
    {
     "name": "stdout",
     "output_type": "stream",
     "text": [
      "MONTH\n",
      "WEEK DAY\n",
      "PST TIME\n",
      "DIALS\n",
      "RPC\n",
      "PTP\n",
      "HEADCOUNT\n",
      "PRD HOURS\n"
     ]
    }
   ],
   "source": [
    "# Change column name\n",
    "overhead2 = overhead.rename(columns= {'ACT_DATE': 'MONTH', \n",
    "                                   'DAY': 'WEEK DAY', \n",
    "                                   'TSRCOUNT': 'HEADCOUNT',})\n",
    "for col in overhead2.columns: \n",
    "    print(col) "
   ]
  },
  {
   "cell_type": "code",
   "execution_count": 20,
   "metadata": {},
   "outputs": [
    {
     "name": "stdout",
     "output_type": "stream",
     "text": [
      "      MONTH  WEEK DAY  PST TIME  DIALS  RPC  PTP  HEADCOUNT  PRD HOURS\n",
      "0         1         3         5   2973   23    3         12       8.54\n",
      "1         1         3         6   3014   24    1         11       7.52\n",
      "2         1         3         7   3903   20    0         10       7.92\n",
      "3         1         3         8   2919   31    2         13       8.08\n",
      "4         1         3         9   1756   48    4         19      11.57\n",
      "...     ...       ...       ...    ...  ...  ...        ...        ...\n",
      "4805      3         6        14   6059   69    2         21      14.57\n",
      "4806      3         6        15  10452   44    1         22      11.59\n",
      "4807      3         6        16   6522   39    1         22      12.54\n",
      "4808      3         6        17   7687   31    2         21      10.61\n",
      "4809      3         6        18     11    2    1          3       0.18\n",
      "\n",
      "[4810 rows x 8 columns]\n"
     ]
    }
   ],
   "source": [
    "print(overhead2)"
   ]
  },
  {
   "cell_type": "code",
   "execution_count": 21,
   "metadata": {},
   "outputs": [],
   "source": [
    "# Remove NULL values - drop nulls"
   ]
  },
  {
   "cell_type": "code",
   "execution_count": 22,
   "metadata": {},
   "outputs": [],
   "source": [
    "overhead2 = overhead2.dropna(subset=['PRD HOURS'])"
   ]
  },
  {
   "cell_type": "code",
   "execution_count": 23,
   "metadata": {},
   "outputs": [
    {
     "name": "stdout",
     "output_type": "stream",
     "text": [
      "<class 'pandas.core.frame.DataFrame'>\n",
      "Int64Index: 4787 entries, 0 to 4809\n",
      "Data columns (total 8 columns):\n",
      "MONTH        4787 non-null int64\n",
      "WEEK DAY     4787 non-null int64\n",
      "PST TIME     4787 non-null int64\n",
      "DIALS        4787 non-null int64\n",
      "RPC          4787 non-null int64\n",
      "PTP          4787 non-null int64\n",
      "HEADCOUNT    4787 non-null int64\n",
      "PRD HOURS    4787 non-null float64\n",
      "dtypes: float64(1), int64(7)\n",
      "memory usage: 336.6 KB\n"
     ]
    }
   ],
   "source": [
    "overhead2.info()"
   ]
  },
  {
   "cell_type": "code",
   "execution_count": 24,
   "metadata": {},
   "outputs": [],
   "source": [
    "import sys "
   ]
  },
  {
   "cell_type": "code",
   "execution_count": 25,
   "metadata": {},
   "outputs": [
    {
     "name": "stdout",
     "output_type": "stream",
     "text": [
      "SUMMARY STATISTICS OF NUMERIC COLUMNS\n",
      "\n",
      "            count         mean           std  min      25%      50%      75%  \\\n",
      "MONTH      4787.0     5.503447      3.405359  1.0     2.00     5.00     8.00   \n",
      "WEEK DAY   4787.0     3.737623      1.876263  1.0     2.00     4.00     5.00   \n",
      "PST TIME   4787.0    11.111970      3.731480  5.0     8.00    11.00    14.00   \n",
      "DIALS      4787.0  7020.332985  13928.466531  1.0  1013.50  2988.00  7450.00   \n",
      "RPC        4787.0    21.891372     19.480333  0.0     7.00    17.00    32.00   \n",
      "PTP        4787.0     1.128473      1.484844  0.0     0.00     1.00     2.00   \n",
      "HEADCOUNT  4787.0    15.090244     10.817649  0.0     6.00    13.00    21.00   \n",
      "PRD HOURS  4787.0     8.735206      7.456876  0.0     2.93     7.05    12.54   \n",
      "\n",
      "                 max  \n",
      "MONTH          12.00  \n",
      "WEEK DAY        7.00  \n",
      "PST TIME       20.00  \n",
      "DIALS      174301.00  \n",
      "RPC           162.00  \n",
      "PTP            11.00  \n",
      "HEADCOUNT      72.00  \n",
      "PRD HOURS      54.16  \n"
     ]
    }
   ],
   "source": [
    "print('SUMMARY STATISTICS OF NUMERIC COLUMNS')\n",
    "print()\n",
    "print(overhead2.describe().T)"
   ]
  },
  {
   "cell_type": "code",
   "execution_count": 26,
   "metadata": {},
   "outputs": [
    {
     "data": {
      "image/png": "[encoded data removed]",
      "text/plain": [
       "<Figure size 432x288 with 1 Axes>"
      ]
     },
     "metadata": {
      "needs_background": "light"
     },
     "output_type": "display_data"
    }
   ],
   "source": [
    "x = overhead2['WEEK DAY']\n",
    "y = overhead2['DIALS']\n",
    "ax = plt.subplot(111)\n",
    "ax.bar(x, y, width=0.5, color='b', align='center')\n",
    "plt.title('Dials distribution per week day')\n",
    "plt.xlabel('WEEK DAY')\n",
    "plt.ylabel('Dials')\n",
    "plt.show()"
   ]
  },
  {
   "cell_type": "code",
   "execution_count": 27,
   "metadata": {},
   "outputs": [
    {
     "data": {
      "image/png": "[encoded data removed]",
      "text/plain": [
       "<Figure size 432x288 with 1 Axes>"
      ]
     },
     "metadata": {
      "needs_background": "light"
     },
     "output_type": "display_data"
    }
   ],
   "source": [
    "x = overhead2['PST TIME']\n",
    "y = overhead2['DIALS']\n",
    "ax = plt.subplot(111)\n",
    "ax.bar(x, y, width=0.5, color='b', align='center')\n",
    "plt.title('Dials distribution per hour')\n",
    "plt.xlabel('PST Time')\n",
    "plt.ylabel('Dials')\n",
    "plt.show()"
   ]
  },
  {
   "cell_type": "code",
   "execution_count": 28,
   "metadata": {},
   "outputs": [
    {
     "data": {
      "image/png": "[encoded data removed]",
      "text/plain": [
       "<Figure size 432x288 with 1 Axes>"
      ]
     },
     "metadata": {
      "needs_background": "light"
     },
     "output_type": "display_data"
    }
   ],
   "source": [
    "x = overhead2['WEEK DAY']\n",
    "y = overhead2['RPC']\n",
    "ax = plt.subplot(111)\n",
    "ax.bar(x, y, width=0.5, color='g', align='center')\n",
    "plt.title('RPC distribution per week day')\n",
    "plt.xlabel('WEEK DAY')\n",
    "plt.ylabel('RPC')\n",
    "plt.show()"
   ]
  },
  {
   "cell_type": "code",
   "execution_count": 29,
   "metadata": {},
   "outputs": [
    {
     "data": {
      "image/png": "[encoded data removed]",
      "text/plain": [
       "<Figure size 432x288 with 1 Axes>"
      ]
     },
     "metadata": {
      "needs_background": "light"
     },
     "output_type": "display_data"
    }
   ],
   "source": [
    "x = overhead2['PST TIME']\n",
    "y = overhead2['RPC']\n",
    "ax = plt.subplot(111)\n",
    "ax.bar(x, y, width=0.5, color='g', align='center')\n",
    "plt.title('RPC distribution per hour')\n",
    "plt.xlabel('PST Time')\n",
    "plt.ylabel('RPC')\n",
    "plt.show()"
   ]
  },
  {
   "cell_type": "code",
   "execution_count": 30,
   "metadata": {},
   "outputs": [
    {
     "data": {
      "image/png": "[encoded data removed]",
      "text/plain": [
       "<Figure size 432x288 with 1 Axes>"
      ]
     },
     "metadata": {
      "needs_background": "light"
     },
     "output_type": "display_data"
    }
   ],
   "source": [
    "x = overhead2['WEEK DAY']\n",
    "y = overhead2['PTP']\n",
    "ax = plt.subplot(111)\n",
    "ax.bar(x, y, width=0.5, color='y', align='center')\n",
    "plt.title('PTP distribution per week day')\n",
    "plt.xlabel('WEEK DAY')\n",
    "plt.ylabel('PTP')\n",
    "plt.show()"
   ]
  },
  {
   "cell_type": "code",
   "execution_count": 31,
   "metadata": {},
   "outputs": [
    {
     "data": {
      "image/png": "[encoded data removed]",
      "text/plain": [
       "<Figure size 432x288 with 1 Axes>"
      ]
     },
     "metadata": {
      "needs_background": "light"
     },
     "output_type": "display_data"
    }
   ],
   "source": [
    "x = overhead2['PST TIME']\n",
    "y = overhead2['PTP']\n",
    "ax = plt.subplot(111)\n",
    "ax.bar(x, y, width=0.5, color='y', align='center')\n",
    "plt.title('PTP distribution per hour')\n",
    "plt.xlabel('PST Time')\n",
    "plt.ylabel('PTP')\n",
    "plt.show()"
   ]
  },
  {
   "cell_type": "code",
   "execution_count": 32,
   "metadata": {},
   "outputs": [
    {
     "data": {
      "image/png": "[encoded data removed]",
      "text/plain": [
       "<Figure size 432x288 with 1 Axes>"
      ]
     },
     "metadata": {
      "needs_background": "light"
     },
     "output_type": "display_data"
    }
   ],
   "source": [
    "x = overhead2['WEEK DAY']\n",
    "y = overhead2['HEADCOUNT']\n",
    "ax = plt.subplot(111)\n",
    "ax.bar(x, y, width=0.5, color='r', align='center')\n",
    "plt.title('Headcount distribution per week day')\n",
    "plt.xlabel('WEEK DAY')\n",
    "plt.ylabel('Headcount')\n",
    "plt.show()"
   ]
  },
  {
   "cell_type": "code",
   "execution_count": 33,
   "metadata": {},
   "outputs": [
    {
     "data": {
      "image/png": "[encoded data removed]",
      "text/plain": [
       "<Figure size 432x288 with 1 Axes>"
      ]
     },
     "metadata": {
      "needs_background": "light"
     },
     "output_type": "display_data"
    }
   ],
   "source": [
    "x = overhead2['PST TIME']\n",
    "y = overhead2['HEADCOUNT']\n",
    "ax = plt.subplot(111)\n",
    "ax.bar(x, y, width=0.5, color='r', align='center')\n",
    "plt.title('Headcount distribution per hour')\n",
    "plt.xlabel('PST TIME')\n",
    "plt.ylabel('Headcount')\n",
    "plt.show()"
   ]
  },
  {
   "cell_type": "code",
   "execution_count": 34,
   "metadata": {},
   "outputs": [
    {
     "data": {
      "image/png": "[encoded data removed]",
      "text/plain": [
       "<Figure size 432x288 with 1 Axes>"
      ]
     },
     "metadata": {
      "needs_background": "light"
     },
     "output_type": "display_data"
    }
   ],
   "source": [
    "x = overhead2['WEEK DAY']\n",
    "y = overhead2['PRD HOURS']\n",
    "ax = plt.subplot(111)\n",
    "ax.bar(x, y, width=0.5, color='purple', align='center')\n",
    "plt.title('Production Hours distribution per week day')\n",
    "plt.xlabel('WEEK DAY')\n",
    "plt.ylabel('Prod Hrs')\n",
    "plt.show()"
   ]
  },
  {
   "cell_type": "code",
   "execution_count": 35,
   "metadata": {},
   "outputs": [
    {
     "data": {
      "image/png": "[encoded data removed]",
      "text/plain": [
       "<Figure size 432x288 with 1 Axes>"
      ]
     },
     "metadata": {
      "needs_background": "light"
     },
     "output_type": "display_data"
    }
   ],
   "source": [
    "x = overhead2['PST TIME']\n",
    "y = overhead2['PRD HOURS']\n",
    "ax = plt.subplot(111)\n",
    "ax.bar(x, y, width=0.5, color='purple', align='center')\n",
    "plt.title('Production Hours distribution per hour')\n",
    "plt.xlabel('PST TIME')\n",
    "plt.ylabel('Prod Hrs')\n",
    "plt.show()"
   ]
  },
  {
   "cell_type": "code",
   "execution_count": 36,
   "metadata": {},
   "outputs": [
    {
     "data": {
      "image/png": "[encoded data removed]",
      "text/plain": [
       "<Figure size 432x288 with 1 Axes>"
      ]
     },
     "metadata": {
      "needs_background": "light"
     },
     "output_type": "display_data"
    }
   ],
   "source": [
    "# Scatter plots \n",
    "# Scatter plots are very useful for comparing two features and understanding any possible relationships between the data\n",
    "# Set the two features equal to variables\n",
    "\n",
    "x = overhead2['DIALS']\n",
    "y = overhead2['RPC']\n",
    "plt.scatter(x,y,color='r',edgecolors='b')\n",
    "#plt.xticks(np.arange(0,175001, 25000))\n",
    "plt.title('Dials per RPC')\n",
    "plt.xlabel('Dials')\n",
    "plt.ylabel('RPC')\n",
    "plt.show()"
   ]
  },
  {
   "cell_type": "code",
   "execution_count": 37,
   "metadata": {},
   "outputs": [
    {
     "data": {
      "image/png": "[encoded data removed]",
      "text/plain": [
       "<Figure size 432x288 with 1 Axes>"
      ]
     },
     "metadata": {
      "needs_background": "light"
     },
     "output_type": "display_data"
    }
   ],
   "source": [
    "x = overhead2['RPC']\n",
    "y = overhead2['PTP']\n",
    "plt.scatter(x,y)\n",
    "plt.title('PTP per RPC')\n",
    "plt.xlabel('RPC')\n",
    "plt.ylabel('PTP')\n",
    "plt.show()"
   ]
  },
  {
   "cell_type": "code",
   "execution_count": 38,
   "metadata": {},
   "outputs": [
    {
     "data": {
      "image/png": "[encoded data removed]",
      "text/plain": [
       "<Figure size 432x288 with 1 Axes>"
      ]
     },
     "metadata": {
      "needs_background": "light"
     },
     "output_type": "display_data"
    }
   ],
   "source": [
    "x = overhead2['PRD HOURS']\n",
    "y = overhead2['RPC']\n",
    "plt.scatter(x,y,color='r',edgecolors='b')\n",
    "#plt.xticks(np.arange(0,175001, 25000))\n",
    "plt.title('RPC per Production Hour')\n",
    "plt.xlabel('PRD HOURS')\n",
    "plt.ylabel('RPC')\n",
    "plt.show()"
   ]
  },
  {
   "cell_type": "code",
   "execution_count": 39,
   "metadata": {},
   "outputs": [
    {
     "data": {
      "image/png": "[encoded data removed]",
      "text/plain": [
       "<Figure size 432x288 with 1 Axes>"
      ]
     },
     "metadata": {
      "needs_background": "light"
     },
     "output_type": "display_data"
    }
   ],
   "source": [
    "x = overhead2['PRD HOURS']\n",
    "y = overhead2['DIALS']\n",
    "plt.scatter(x,y,color='r',edgecolors='b')\n",
    "#plt.xticks(np.arange(0,175001, 25000))\n",
    "plt.title('DIALS per Production Hour')\n",
    "plt.xlabel('PRD HOURS')\n",
    "plt.ylabel('DIALS')\n",
    "plt.show()"
   ]
  },
  {
   "cell_type": "code",
   "execution_count": 40,
   "metadata": {},
   "outputs": [],
   "source": [
    "# With visualization help of Histograms and Scatter plot I can anticipate dials above 75K may not be relevant for this project \n",
    "# Hence suggest to remove values above 75K dials to gain accuracy \n",
    "# this can be a possible scenario to increase results "
   ]
  },
  {
   "cell_type": "code",
   "execution_count": 41,
   "metadata": {},
   "outputs": [
    {
     "name": "stdout",
     "output_type": "stream",
     "text": [
      "              MONTH  WEEK DAY  PST TIME     DIALS       RPC       PTP  \\\n",
      "MONTH      1.000000  0.001482  0.026640 -0.070649 -0.089865 -0.082959   \n",
      "WEEK DAY   0.001482  1.000000 -0.078500  0.002161 -0.044798 -0.017897   \n",
      "PST TIME   0.026640 -0.078500  1.000000 -0.243548 -0.350161 -0.302209   \n",
      "DIALS     -0.070649  0.002161 -0.243548  1.000000  0.392696  0.259179   \n",
      "RPC       -0.089865 -0.044798 -0.350161  0.392696  1.000000  0.593470   \n",
      "PTP       -0.082959 -0.017897 -0.302209  0.259179  0.593470  1.000000   \n",
      "HEADCOUNT -0.070159 -0.047907 -0.289715  0.594740  0.760052  0.470002   \n",
      "PRD HOURS -0.079140 -0.032264 -0.334656  0.636353  0.832934  0.530215   \n",
      "\n",
      "           HEADCOUNT  PRD HOURS  \n",
      "MONTH      -0.070159  -0.079140  \n",
      "WEEK DAY   -0.047907  -0.032264  \n",
      "PST TIME   -0.289715  -0.334656  \n",
      "DIALS       0.594740   0.636353  \n",
      "RPC         0.760052   0.832934  \n",
      "PTP         0.470002   0.530215  \n",
      "HEADCOUNT   1.000000   0.939695  \n",
      "PRD HOURS   0.939695   1.000000  \n"
     ]
    }
   ],
   "source": [
    "# Correlation \n",
    "# addressing collinearity or checking for relationships between features for selection or engineering\n",
    "# calculating correlation is vital part of all Data Science projects\n",
    "\n",
    "correlationMat = overhead2.corr()\n",
    "print(correlationMat)"
   ]
  },
  {
   "cell_type": "code",
   "execution_count": 42,
   "metadata": {},
   "outputs": [
    {
     "data": {
      "image/png": "[encoded data removed]",
      "text/plain": [
       "<Figure size 576x504 with 2 Axes>"
      ]
     },
     "metadata": {
      "needs_background": "light"
     },
     "output_type": "display_data"
    }
   ],
   "source": [
    "f,ax = plt.subplots(figsize=(8,7))\n",
    "sn.heatmap(correlationMat, cbar=True, square = True, annot= False, fmt='.1f',xticklabels=True,yticklabels=True,\n",
    "           cmap=\"coolwarm\", linewidths = .5, ax=ax)\n",
    "plt.title('CORRELATION MATRIX', size=16);"
   ]
  },
  {
   "cell_type": "code",
   "execution_count": 43,
   "metadata": {},
   "outputs": [],
   "source": [
    "# Most correlated variables are dials, RPCs, PTPs, headcount and Production hours \n",
    "# However all variables will be considered in this approach to analize data set, hence not dropping any variable\n",
    "# For correlated approach to this exercise please reffer to MCM Regression Analysis --> (selected features)  "
   ]
  },
  {
   "cell_type": "code",
   "execution_count": 44,
   "metadata": {},
   "outputs": [
    {
     "name": "stdout",
     "output_type": "stream",
     "text": [
      "                 MONTH   WEEK DAY      PST TIME         DIALS            RPC  \\\n",
      "MONTH        11.596467   0.009471      0.338519 -3.350961e+03      -5.961389   \n",
      "WEEK DAY      0.009471   3.520362     -0.549596  5.647539e+01      -1.637367   \n",
      "PST TIME      0.338519  -0.549596     13.923942 -1.265811e+04     -25.453359   \n",
      "DIALS     -3350.960613  56.475393 -12658.112094  1.940022e+08  106550.549969   \n",
      "RPC          -5.961389  -1.637367    -25.453359  1.065505e+05     379.483392   \n",
      "PTP          -0.419478  -0.049862     -1.674438  5.360232e+03      17.166278   \n",
      "HEADCOUNT    -2.584515  -0.972347    -11.694603  8.961146e+04     160.166930   \n",
      "PRD HOURS    -2.009636  -0.451407     -9.311866  6.609344e+04     120.993988   \n",
      "\n",
      "                   PTP     HEADCOUNT     PRD HOURS  \n",
      "MONTH        -0.419478     -2.584515     -2.009636  \n",
      "WEEK DAY     -0.049862     -0.972347     -0.451407  \n",
      "PST TIME     -1.674438    -11.694603     -9.311866  \n",
      "DIALS      5360.232180  89611.455527  66093.440395  \n",
      "RPC          17.166278    160.166930    120.993988  \n",
      "PTP           2.204762      7.549415      5.870700  \n",
      "HEADCOUNT     7.549415    117.021524     75.801277  \n",
      "PRD HOURS     5.870700     75.801277     55.605007  \n"
     ]
    }
   ],
   "source": [
    "# Covariance\n",
    "# You can use covariance to measure how changes in one variable are associated with changes in a second variable\n",
    "# This will be very important when studying the impact various features might have on default rates\n",
    "# Variance measures the variation of a single random variable (like the height of a person in a population)\n",
    "# whereas covariance is a measure of how much two random variables vary together \n",
    "# (like the height of a person and the weight of a person in a population).\n",
    "\n",
    "covarianceMat = overhead2.cov()\n",
    "print(covarianceMat)"
   ]
  },
  {
   "cell_type": "code",
   "execution_count": 45,
   "metadata": {},
   "outputs": [
    {
     "data": {
      "image/png": "[encoded data removed]",
      "text/plain": [
       "<Figure size 576x504 with 2 Axes>"
      ]
     },
     "metadata": {
      "needs_background": "light"
     },
     "output_type": "display_data"
    }
   ],
   "source": [
    "f,ax = plt.subplots(figsize=(8,7))\n",
    "sn.heatmap(covarianceMat, cbar=True, square = True, annot= False, fmt='.1f',xticklabels=True,yticklabels=True,\n",
    "           cmap=\"icefire\", linewidths = .5, ax=ax)\n",
    "plt.title('COVARIANCE MATRIX', size=16);"
   ]
  },
  {
   "cell_type": "code",
   "execution_count": 46,
   "metadata": {},
   "outputs": [],
   "source": [
    "# Covariance indicating changes in one variable are not strongly associated with changes in a second variable\n",
    "# due to low values in graph"
   ]
  },
  {
   "cell_type": "code",
   "execution_count": 47,
   "metadata": {},
   "outputs": [
    {
     "data": {
      "text/plain": [
       "Text(0.5, 1.0, 'Distribution of Dials')"
      ]
     },
     "execution_count": 47,
     "metadata": {},
     "output_type": "execute_result"
    },
    {
     "data": {
      "image/png": "[encoded data removed]",
      "text/plain": [
       "<Figure size 432x288 with 1 Axes>"
      ]
     },
     "metadata": {
      "needs_background": "light"
     },
     "output_type": "display_data"
    }
   ],
   "source": [
    "# Distribution with an overlay of a density plot\n",
    "DIALS = overhead2['DIALS']\n",
    "age_dist = sn.distplot(DIALS)\n",
    "age_dist.set_title(\"Distribution of Dials\")"
   ]
  },
  {
   "cell_type": "code",
   "execution_count": 48,
   "metadata": {},
   "outputs": [
    {
     "data": {
      "text/plain": [
       "Text(0.5, 1.0, 'Distribution of RPCs')"
      ]
     },
     "execution_count": 48,
     "metadata": {},
     "output_type": "execute_result"
    },
    {
     "data": {
      "image/png": "[encoded data removed]",
      "text/plain": [
       "<Figure size 432x288 with 1 Axes>"
      ]
     },
     "metadata": {
      "needs_background": "light"
     },
     "output_type": "display_data"
    }
   ],
   "source": [
    "RPC = overhead2['RPC']\n",
    "age_dist = sn.distplot(RPC)\n",
    "age_dist.set_title(\"Distribution of RPCs\")"
   ]
  },
  {
   "cell_type": "code",
   "execution_count": 49,
   "metadata": {},
   "outputs": [],
   "source": [
    "# There also seems to be noise in RPC data, due to outliers. Suggest to take a closer look to this valiable "
   ]
  },
  {
   "cell_type": "code",
   "execution_count": 50,
   "metadata": {},
   "outputs": [
    {
     "data": {
      "text/plain": [
       "Text(0.5, 1.0, 'Distribution of PTPs')"
      ]
     },
     "execution_count": 50,
     "metadata": {},
     "output_type": "execute_result"
    },
    {
     "data": {
      "image/png": "[encoded data removed]",
      "text/plain": [
       "<Figure size 432x288 with 1 Axes>"
      ]
     },
     "metadata": {
      "needs_background": "light"
     },
     "output_type": "display_data"
    }
   ],
   "source": [
    "PTP = overhead2['PTP']\n",
    "age_dist = sn.distplot(PTP)\n",
    "plt.xticks(np.arange(0,13,1))\n",
    "age_dist.set_title(\"Distribution of PTPs\")"
   ]
  },
  {
   "cell_type": "code",
   "execution_count": 51,
   "metadata": {},
   "outputs": [
    {
     "data": {
      "text/plain": [
       "Text(0.5, 1.0, 'Distribution of Production Hours')"
      ]
     },
     "execution_count": 51,
     "metadata": {},
     "output_type": "execute_result"
    },
    {
     "data": {
      "image/png": "[encoded data removed]",
      "text/plain": [
       "<Figure size 432x288 with 1 Axes>"
      ]
     },
     "metadata": {
      "needs_background": "light"
     },
     "output_type": "display_data"
    }
   ],
   "source": [
    "PRDHOURS = overhead2['PRD HOURS']\n",
    "age_dist = sn.distplot(PRDHOURS)\n",
    "age_dist.set_title(\"Distribution of Production Hours\")"
   ]
  },
  {
   "cell_type": "code",
   "execution_count": 52,
   "metadata": {},
   "outputs": [
    {
     "data": {
      "text/plain": [
       "Text(0.5, 1.0, 'Distribution of PST Time')"
      ]
     },
     "execution_count": 52,
     "metadata": {},
     "output_type": "execute_result"
    },
    {
     "data": {
      "image/png": "[encoded data removed]",
      "text/plain": [
       "<Figure size 432x288 with 1 Axes>"
      ]
     },
     "metadata": {
      "needs_background": "light"
     },
     "output_type": "display_data"
    }
   ],
   "source": [
    "PSTTIME = overhead2['PST TIME']\n",
    "age_dist = sn.distplot(PSTTIME)\n",
    "plt.xticks(np.arange(4,22,1))\n",
    "age_dist.set_title(\"Distribution of PST Time\")"
   ]
  },
  {
   "cell_type": "code",
   "execution_count": 53,
   "metadata": {},
   "outputs": [],
   "source": [
    "# Per Scatter plots it's observed Distributions are positive skewed, or skewed to the right\n",
    "# The distribution graphs can be very helpful to determine the best fitting model\n",
    "# https://becominghuman.ai/how-to-deal-with-skewed-dataset-in-machine-learning-afd2928011cc\n",
    "\n",
    "# At this I spend sometime learning a new skill to convert skewed variables (logaritmic distribution)\n",
    "# However given the short time to deliver this project I only made and soft and exploratory approach and decided to\n",
    "# move on with the raw data from original dataset\n",
    "# Refer to http://localhost:8888/notebooks/MCM%20Regression%20Analysis.ipynb"
   ]
  },
  {
   "cell_type": "code",
   "execution_count": 55,
   "metadata": {},
   "outputs": [
    {
     "name": "stdout",
     "output_type": "stream",
     "text": [
      "MONTH\n",
      "WEEK DAY\n",
      "PST TIME\n",
      "DIALS\n",
      "RPC\n",
      "PTP\n",
      "HEADCOUNT\n",
      "PRD_HOURS\n"
     ]
    }
   ],
   "source": [
    "overhead2 = overhead2.rename(columns= {'PRD HOURS': 'PRD_HOURS'})\n",
    "for col in overhead2.columns: \n",
    "    print(col) "
   ]
  },
  {
   "cell_type": "code",
   "execution_count": null,
   "metadata": {},
   "outputs": [],
   "source": [
    "# Buils and Evaluate Models \n",
    "# *********** MCM DATA ************* REGRESSION APPROACH *****************\n",
    "\n",
    "# Regression Analysis is based on Continuous(Numerical) Variables vs Classification Analisys is based on Discrete Variables"
   ]
  },
  {
   "cell_type": "code",
   "execution_count": null,
   "metadata": {},
   "outputs": [],
   "source": [
    "# Selecting and Dividing the Data"
   ]
  },
  {
   "cell_type": "code",
   "execution_count": 63,
   "metadata": {},
   "outputs": [
    {
     "data": {
      "text/html": [
       "<div>\n",
       "<style scoped>\n",
       "    .dataframe tbody tr th:only-of-type {\n",
       "        vertical-align: middle;\n",
       "    }\n",
       "\n",
       "    .dataframe tbody tr th {\n",
       "        vertical-align: top;\n",
       "    }\n",
       "\n",
       "    .dataframe thead th {\n",
       "        text-align: right;\n",
       "    }\n",
       "</style>\n",
       "<table border=\"1\" class=\"dataframe\">\n",
       "  <thead>\n",
       "    <tr style=\"text-align: right;\">\n",
       "      <th></th>\n",
       "      <th>MONTH</th>\n",
       "      <th>WEEK DAY</th>\n",
       "      <th>PST TIME</th>\n",
       "      <th>DIALS</th>\n",
       "      <th>RPC</th>\n",
       "      <th>PTP</th>\n",
       "      <th>HEADCOUNT</th>\n",
       "      <th>PRD_HOURS</th>\n",
       "    </tr>\n",
       "  </thead>\n",
       "  <tbody>\n",
       "    <tr>\n",
       "      <td>0</td>\n",
       "      <td>1</td>\n",
       "      <td>3</td>\n",
       "      <td>5</td>\n",
       "      <td>2973</td>\n",
       "      <td>23</td>\n",
       "      <td>3</td>\n",
       "      <td>12</td>\n",
       "      <td>8.54</td>\n",
       "    </tr>\n",
       "    <tr>\n",
       "      <td>1</td>\n",
       "      <td>1</td>\n",
       "      <td>3</td>\n",
       "      <td>6</td>\n",
       "      <td>3014</td>\n",
       "      <td>24</td>\n",
       "      <td>1</td>\n",
       "      <td>11</td>\n",
       "      <td>7.52</td>\n",
       "    </tr>\n",
       "    <tr>\n",
       "      <td>2</td>\n",
       "      <td>1</td>\n",
       "      <td>3</td>\n",
       "      <td>7</td>\n",
       "      <td>3903</td>\n",
       "      <td>20</td>\n",
       "      <td>0</td>\n",
       "      <td>10</td>\n",
       "      <td>7.92</td>\n",
       "    </tr>\n",
       "    <tr>\n",
       "      <td>3</td>\n",
       "      <td>1</td>\n",
       "      <td>3</td>\n",
       "      <td>8</td>\n",
       "      <td>2919</td>\n",
       "      <td>31</td>\n",
       "      <td>2</td>\n",
       "      <td>13</td>\n",
       "      <td>8.08</td>\n",
       "    </tr>\n",
       "    <tr>\n",
       "      <td>4</td>\n",
       "      <td>1</td>\n",
       "      <td>3</td>\n",
       "      <td>9</td>\n",
       "      <td>1756</td>\n",
       "      <td>48</td>\n",
       "      <td>4</td>\n",
       "      <td>19</td>\n",
       "      <td>11.57</td>\n",
       "    </tr>\n",
       "    <tr>\n",
       "      <td>...</td>\n",
       "      <td>...</td>\n",
       "      <td>...</td>\n",
       "      <td>...</td>\n",
       "      <td>...</td>\n",
       "      <td>...</td>\n",
       "      <td>...</td>\n",
       "      <td>...</td>\n",
       "      <td>...</td>\n",
       "    </tr>\n",
       "    <tr>\n",
       "      <td>4805</td>\n",
       "      <td>3</td>\n",
       "      <td>6</td>\n",
       "      <td>14</td>\n",
       "      <td>6059</td>\n",
       "      <td>69</td>\n",
       "      <td>2</td>\n",
       "      <td>21</td>\n",
       "      <td>14.57</td>\n",
       "    </tr>\n",
       "    <tr>\n",
       "      <td>4806</td>\n",
       "      <td>3</td>\n",
       "      <td>6</td>\n",
       "      <td>15</td>\n",
       "      <td>10452</td>\n",
       "      <td>44</td>\n",
       "      <td>1</td>\n",
       "      <td>22</td>\n",
       "      <td>11.59</td>\n",
       "    </tr>\n",
       "    <tr>\n",
       "      <td>4807</td>\n",
       "      <td>3</td>\n",
       "      <td>6</td>\n",
       "      <td>16</td>\n",
       "      <td>6522</td>\n",
       "      <td>39</td>\n",
       "      <td>1</td>\n",
       "      <td>22</td>\n",
       "      <td>12.54</td>\n",
       "    </tr>\n",
       "    <tr>\n",
       "      <td>4808</td>\n",
       "      <td>3</td>\n",
       "      <td>6</td>\n",
       "      <td>17</td>\n",
       "      <td>7687</td>\n",
       "      <td>31</td>\n",
       "      <td>2</td>\n",
       "      <td>21</td>\n",
       "      <td>10.61</td>\n",
       "    </tr>\n",
       "    <tr>\n",
       "      <td>4809</td>\n",
       "      <td>3</td>\n",
       "      <td>6</td>\n",
       "      <td>18</td>\n",
       "      <td>11</td>\n",
       "      <td>2</td>\n",
       "      <td>1</td>\n",
       "      <td>3</td>\n",
       "      <td>0.18</td>\n",
       "    </tr>\n",
       "  </tbody>\n",
       "</table>\n",
       "<p>4787 rows × 8 columns</p>\n",
       "</div>"
      ],
      "text/plain": [
       "      MONTH  WEEK DAY  PST TIME  DIALS  RPC  PTP  HEADCOUNT  PRD_HOURS\n",
       "0         1         3         5   2973   23    3         12       8.54\n",
       "1         1         3         6   3014   24    1         11       7.52\n",
       "2         1         3         7   3903   20    0         10       7.92\n",
       "3         1         3         8   2919   31    2         13       8.08\n",
       "4         1         3         9   1756   48    4         19      11.57\n",
       "...     ...       ...       ...    ...  ...  ...        ...        ...\n",
       "4805      3         6        14   6059   69    2         21      14.57\n",
       "4806      3         6        15  10452   44    1         22      11.59\n",
       "4807      3         6        16   6522   39    1         22      12.54\n",
       "4808      3         6        17   7687   31    2         21      10.61\n",
       "4809      3         6        18     11    2    1          3       0.18\n",
       "\n",
       "[4787 rows x 8 columns]"
      ]
     },
     "execution_count": 63,
     "metadata": {},
     "output_type": "execute_result"
    }
   ],
   "source": [
    "# Selecting Data - all features\n",
    "overhead2"
   ]
  },
  {
   "cell_type": "code",
   "execution_count": 64,
   "metadata": {},
   "outputs": [],
   "source": [
    "# Select the Dependent Variable \n",
    "\n",
    "# dependent variable\n",
    "depVar = overhead2['PTP']"
   ]
  },
  {
   "cell_type": "code",
   "execution_count": 65,
   "metadata": {},
   "outputs": [
    {
     "data": {
      "text/html": [
       "<div>\n",
       "<style scoped>\n",
       "    .dataframe tbody tr th:only-of-type {\n",
       "        vertical-align: middle;\n",
       "    }\n",
       "\n",
       "    .dataframe tbody tr th {\n",
       "        vertical-align: top;\n",
       "    }\n",
       "\n",
       "    .dataframe thead th {\n",
       "        text-align: right;\n",
       "    }\n",
       "</style>\n",
       "<table border=\"1\" class=\"dataframe\">\n",
       "  <thead>\n",
       "    <tr style=\"text-align: right;\">\n",
       "      <th></th>\n",
       "      <th>MONTH</th>\n",
       "      <th>WEEK DAY</th>\n",
       "      <th>PST TIME</th>\n",
       "      <th>DIALS</th>\n",
       "      <th>RPC</th>\n",
       "      <th>PTP</th>\n",
       "      <th>HEADCOUNT</th>\n",
       "      <th>PRD_HOURS</th>\n",
       "    </tr>\n",
       "  </thead>\n",
       "  <tbody>\n",
       "    <tr>\n",
       "      <td>0</td>\n",
       "      <td>1</td>\n",
       "      <td>3</td>\n",
       "      <td>5</td>\n",
       "      <td>2973</td>\n",
       "      <td>23</td>\n",
       "      <td>3</td>\n",
       "      <td>12</td>\n",
       "      <td>8.54</td>\n",
       "    </tr>\n",
       "    <tr>\n",
       "      <td>1</td>\n",
       "      <td>1</td>\n",
       "      <td>3</td>\n",
       "      <td>6</td>\n",
       "      <td>3014</td>\n",
       "      <td>24</td>\n",
       "      <td>1</td>\n",
       "      <td>11</td>\n",
       "      <td>7.52</td>\n",
       "    </tr>\n",
       "    <tr>\n",
       "      <td>2</td>\n",
       "      <td>1</td>\n",
       "      <td>3</td>\n",
       "      <td>7</td>\n",
       "      <td>3903</td>\n",
       "      <td>20</td>\n",
       "      <td>0</td>\n",
       "      <td>10</td>\n",
       "      <td>7.92</td>\n",
       "    </tr>\n",
       "    <tr>\n",
       "      <td>3</td>\n",
       "      <td>1</td>\n",
       "      <td>3</td>\n",
       "      <td>8</td>\n",
       "      <td>2919</td>\n",
       "      <td>31</td>\n",
       "      <td>2</td>\n",
       "      <td>13</td>\n",
       "      <td>8.08</td>\n",
       "    </tr>\n",
       "    <tr>\n",
       "      <td>4</td>\n",
       "      <td>1</td>\n",
       "      <td>3</td>\n",
       "      <td>9</td>\n",
       "      <td>1756</td>\n",
       "      <td>48</td>\n",
       "      <td>4</td>\n",
       "      <td>19</td>\n",
       "      <td>11.57</td>\n",
       "    </tr>\n",
       "  </tbody>\n",
       "</table>\n",
       "</div>"
      ],
      "text/plain": [
       "   MONTH  WEEK DAY  PST TIME  DIALS  RPC  PTP  HEADCOUNT  PRD_HOURS\n",
       "0      1         3         5   2973   23    3         12       8.54\n",
       "1      1         3         6   3014   24    1         11       7.52\n",
       "2      1         3         7   3903   20    0         10       7.92\n",
       "3      1         3         8   2919   31    2         13       8.08\n",
       "4      1         3         9   1756   48    4         19      11.57"
      ]
     },
     "execution_count": 65,
     "metadata": {},
     "output_type": "execute_result"
    }
   ],
   "source": [
    "# Establish the training set for the X-variables \n",
    "\n",
    "#Training Set (Feature Space: X Training) this is 70% of the dataset, this is 3350 entries\n",
    "X_train = (overhead2[: 3350])\n",
    "X_train.head()"
   ]
  },
  {
   "cell_type": "code",
   "execution_count": 66,
   "metadata": {},
   "outputs": [
    {
     "name": "stdout",
     "output_type": "stream",
     "text": [
      "The number of observations in the Y training set are: 3350\n"
     ]
    },
    {
     "data": {
      "text/plain": [
       "0    3\n",
       "1    1\n",
       "2    0\n",
       "3    2\n",
       "4    4\n",
       "Name: PTP, dtype: int64"
      ]
     },
     "execution_count": 66,
     "metadata": {},
     "output_type": "execute_result"
    }
   ],
   "source": [
    "# Establish the training set for the Y-variable or dependent variable (the number of rows much match the X-training set)\n",
    "\n",
    "#Dependent Variable Training Set (y Training)\n",
    "y_train = depVar[: 3350]\n",
    "y_train_count = len(y_train.index)\n",
    "print('The number of observations in the Y training set are:',str(y_train_count))\n",
    "y_train.head()"
   ]
  },
  {
   "cell_type": "code",
   "execution_count": 67,
   "metadata": {},
   "outputs": [
    {
     "name": "stdout",
     "output_type": "stream",
     "text": [
      "The number of observations in the testing set is: 1437\n",
      "      MONTH  WEEK DAY  PST TIME  DIALS  RPC  PTP  HEADCOUNT  PRD_HOURS\n",
      "3366     10         4         6   3126    8    0          6       4.61\n",
      "3367     10         4         7   4376    7    0          6       3.97\n",
      "3368     10         4         8  46462   38    2         27      17.92\n",
      "3369     10         4         9   8768   20    1         22       8.74\n",
      "3370     10         4        10  17945   30    0         27      13.66\n"
     ]
    }
   ],
   "source": [
    "# Establish the testing set for the X-Variables, this is 30% of the dataset, this is 1437 entries\n",
    "\n",
    "#Testing Set (X Testing)\n",
    "X_test = overhead2[-1437:]\n",
    "X_test_count = len(X_test.index)\n",
    "print('The number of observations in the testing set is:',str(X_test_count))\n",
    "print(X_test.head())"
   ]
  },
  {
   "cell_type": "code",
   "execution_count": 68,
   "metadata": {},
   "outputs": [
    {
     "name": "stdout",
     "output_type": "stream",
     "text": [
      "The number of observations in the Y training set are: 1437\n"
     ]
    },
    {
     "data": {
      "text/plain": [
       "3366    0\n",
       "3367    0\n",
       "3368    2\n",
       "3369    1\n",
       "3370    0\n",
       "Name: PTP, dtype: int64"
      ]
     },
     "execution_count": 68,
     "metadata": {},
     "output_type": "execute_result"
    }
   ],
   "source": [
    "# Training Data is divided into two parts: X-train and y_train\n",
    "# Testing data follows the same rules and contains two sets: X_test and y_test (ground truth)\n",
    "\n",
    "# Establish Ground truth \n",
    "\n",
    "#Ground Truth (y_test) \n",
    "y_test = depVar[-1437:]\n",
    "y_test_count = len(y_test.index)\n",
    "print('The number of observations in the Y training set are:',str(y_test_count))\n",
    "y_test.head()"
   ]
  },
  {
   "cell_type": "code",
   "execution_count": 69,
   "metadata": {},
   "outputs": [
    {
     "data": {
      "text/plain": [
       "((2512, 8), (838, 8))"
      ]
     },
     "execution_count": 69,
     "metadata": {},
     "output_type": "execute_result"
    }
   ],
   "source": [
    "# Cross Validate\n",
    "\n",
    "X_train, X_test, y_train, y_test = train_test_split(X_train, y_train)\n",
    "X_train.shape, X_test.shape"
   ]
  },
  {
   "cell_type": "code",
   "execution_count": 70,
   "metadata": {},
   "outputs": [],
   "source": [
    "# Building the Models and Choosing the Right Model\n",
    "\n",
    "# 1. Imports (already done above)\n",
    "# 2. Models (Establish variables that will be use for defining each model)\n",
    "# Models\n",
    "modelSVR = SVR()\n",
    "modelRF = RandomForestRegressor()\n",
    "modelLR = LinearRegression()"
   ]
  },
  {
   "cell_type": "code",
   "execution_count": 71,
   "metadata": {},
   "outputs": [
    {
     "name": "stdout",
     "output_type": "stream",
     "text": [
      "Summary of feature sample\n"
     ]
    },
    {
     "data": {
      "text/html": [
       "<div>\n",
       "<style scoped>\n",
       "    .dataframe tbody tr th:only-of-type {\n",
       "        vertical-align: middle;\n",
       "    }\n",
       "\n",
       "    .dataframe tbody tr th {\n",
       "        vertical-align: top;\n",
       "    }\n",
       "\n",
       "    .dataframe thead th {\n",
       "        text-align: right;\n",
       "    }\n",
       "</style>\n",
       "<table border=\"1\" class=\"dataframe\">\n",
       "  <thead>\n",
       "    <tr style=\"text-align: right;\">\n",
       "      <th></th>\n",
       "      <th>MONTH</th>\n",
       "      <th>WEEK DAY</th>\n",
       "      <th>PST TIME</th>\n",
       "      <th>DIALS</th>\n",
       "      <th>RPC</th>\n",
       "      <th>PTP</th>\n",
       "      <th>HEADCOUNT</th>\n",
       "      <th>PRD_HOURS</th>\n",
       "    </tr>\n",
       "  </thead>\n",
       "  <tbody>\n",
       "    <tr>\n",
       "      <td>0</td>\n",
       "      <td>1</td>\n",
       "      <td>3</td>\n",
       "      <td>5</td>\n",
       "      <td>2973</td>\n",
       "      <td>23</td>\n",
       "      <td>3</td>\n",
       "      <td>12</td>\n",
       "      <td>8.54</td>\n",
       "    </tr>\n",
       "    <tr>\n",
       "      <td>1</td>\n",
       "      <td>1</td>\n",
       "      <td>3</td>\n",
       "      <td>6</td>\n",
       "      <td>3014</td>\n",
       "      <td>24</td>\n",
       "      <td>1</td>\n",
       "      <td>11</td>\n",
       "      <td>7.52</td>\n",
       "    </tr>\n",
       "    <tr>\n",
       "      <td>2</td>\n",
       "      <td>1</td>\n",
       "      <td>3</td>\n",
       "      <td>7</td>\n",
       "      <td>3903</td>\n",
       "      <td>20</td>\n",
       "      <td>0</td>\n",
       "      <td>10</td>\n",
       "      <td>7.92</td>\n",
       "    </tr>\n",
       "    <tr>\n",
       "      <td>3</td>\n",
       "      <td>1</td>\n",
       "      <td>3</td>\n",
       "      <td>8</td>\n",
       "      <td>2919</td>\n",
       "      <td>31</td>\n",
       "      <td>2</td>\n",
       "      <td>13</td>\n",
       "      <td>8.08</td>\n",
       "    </tr>\n",
       "    <tr>\n",
       "      <td>4</td>\n",
       "      <td>1</td>\n",
       "      <td>3</td>\n",
       "      <td>9</td>\n",
       "      <td>1756</td>\n",
       "      <td>48</td>\n",
       "      <td>4</td>\n",
       "      <td>19</td>\n",
       "      <td>11.57</td>\n",
       "    </tr>\n",
       "  </tbody>\n",
       "</table>\n",
       "</div>"
      ],
      "text/plain": [
       "   MONTH  WEEK DAY  PST TIME  DIALS  RPC  PTP  HEADCOUNT  PRD_HOURS\n",
       "0      1         3         5   2973   23    3         12       8.54\n",
       "1      1         3         6   3014   24    1         11       7.52\n",
       "2      1         3         7   3903   20    0         10       7.92\n",
       "3      1         3         8   2919   31    2         13       8.08\n",
       "4      1         3         9   1756   48    4         19      11.57"
      ]
     },
     "execution_count": 71,
     "metadata": {},
     "output_type": "execute_result"
    }
   ],
   "source": [
    "# 3. It is a good idea to establish a variable specifically for your features\n",
    "# so you will have full control over what is being used for training\n",
    "\n",
    "features = overhead2\n",
    "print('Summary of feature sample')\n",
    "features.head()"
   ]
  },
  {
   "cell_type": "code",
   "execution_count": 72,
   "metadata": {},
   "outputs": [
    {
     "name": "stdout",
     "output_type": "stream",
     "text": [
      "0       3\n",
      "1       1\n",
      "2       0\n",
      "3       2\n",
      "4       4\n",
      "       ..\n",
      "4805    2\n",
      "4806    1\n",
      "4807    1\n",
      "4808    2\n",
      "4809    1\n",
      "Name: PTP, Length: 4787, dtype: int64\n"
     ]
    }
   ],
   "source": [
    "# 4. Not mandatory, but it might be a good idea to validate that the correct column is being used for the dependent variable\n",
    "# dependent variable\n",
    "print(depVar)"
   ]
  },
  {
   "cell_type": "code",
   "execution_count": null,
   "metadata": {},
   "outputs": [],
   "source": [
    "# 5. Use the model variables (established in step 2)\n",
    "\n",
    "# model.fit(X_train,y_train)"
   ]
  },
  {
   "cell_type": "code",
   "execution_count": 73,
   "metadata": {},
   "outputs": [
    {
     "data": {
      "text/plain": [
       "RandomForestRegressor(bootstrap=True, criterion='mse', max_depth=None,\n",
       "                      max_features='auto', max_leaf_nodes=None,\n",
       "                      min_impurity_decrease=0.0, min_impurity_split=None,\n",
       "                      min_samples_leaf=1, min_samples_split=2,\n",
       "                      min_weight_fraction_leaf=0.0, n_estimators=10,\n",
       "                      n_jobs=None, oob_score=False, random_state=None,\n",
       "                      verbose=0, warm_start=False)"
      ]
     },
     "execution_count": 73,
     "metadata": {},
     "output_type": "execute_result"
    }
   ],
   "source": [
    "# 6. Random Forest\n",
    "\n",
    "modelRF.fit(X_train,y_train)"
   ]
  },
  {
   "cell_type": "code",
   "execution_count": 74,
   "metadata": {},
   "outputs": [
    {
     "data": {
      "text/plain": [
       "SVR(C=1.0, cache_size=200, coef0=0.0, degree=3, epsilon=0.1,\n",
       "    gamma='auto_deprecated', kernel='rbf', max_iter=-1, shrinking=True,\n",
       "    tol=0.001, verbose=False)"
      ]
     },
     "execution_count": 74,
     "metadata": {},
     "output_type": "execute_result"
    }
   ],
   "source": [
    "# 7. Support Vector Regression\n",
    "\n",
    "modelSVR.fit(X_train,y_train)"
   ]
  },
  {
   "cell_type": "code",
   "execution_count": 75,
   "metadata": {},
   "outputs": [
    {
     "data": {
      "text/plain": [
       "LinearRegression(copy_X=True, fit_intercept=True, n_jobs=None, normalize=False)"
      ]
     },
     "execution_count": 75,
     "metadata": {},
     "output_type": "execute_result"
    }
   ],
   "source": [
    "# 8. Linear Regression\n",
    "\n",
    "modelLR.fit(X_train,y_train)"
   ]
  },
  {
   "cell_type": "code",
   "execution_count": 76,
   "metadata": {},
   "outputs": [
    {
     "name": "stdout",
     "output_type": "stream",
     "text": [
      "[0.9985381  0.99900393 0.99802404]\n",
      "[-0.04069866 -0.02670368 -0.01126776]\n",
      "[1. 1. 1.]\n"
     ]
    }
   ],
   "source": [
    "# Choosing the Right Model (Cross Validation Score)\n",
    "\n",
    "print(cross_val_score(modelRF, X_train, y_train)) \n",
    "print(cross_val_score(modelSVR, X_train, y_train)) \n",
    "print(cross_val_score(modelLR, X_train, y_train)) \n",
    "\n",
    "#These values correspond to the the following:\n",
    "\n",
    "# 1st value: The score array for test scores on each cv split. (Higher is an indicator of a better performing model)\n",
    "# 2nd value: The time for fitting the estimator on the train set for each cv split.\n",
    "# 3rd Value: The time for scoring the estimator on the test set for each cv split. "
   ]
  },
  {
   "cell_type": "code",
   "execution_count": 77,
   "metadata": {},
   "outputs": [
    {
     "name": "stdout",
     "output_type": "stream",
     "text": [
      "[0.99814949 0.99900393 0.99713125]\n"
     ]
    },
    {
     "data": {
      "text/plain": [
       "0.9999608061642222"
      ]
     },
     "execution_count": 77,
     "metadata": {},
     "output_type": "execute_result"
    }
   ],
   "source": [
    "# Model Fitting Random Forest\n",
    "modelRF.fit(X_train,y_train)\n",
    "print(cross_val_score(modelRF, X_train, y_train))\n",
    "modelRF.score(X_train,y_train)"
   ]
  },
  {
   "cell_type": "code",
   "execution_count": 78,
   "metadata": {},
   "outputs": [],
   "source": [
    "# Given the high accuracy of the RF model 99.9%, concerns about overfitting but also explains \"high linearity\" of the data\n",
    "# Consider testing model with all variables, maybe will reduce accuracy however, model could be more robust to face changes\n",
    "# from the datasource. For example if we add more observation to the data set to put model in production, and/or to predict\n",
    "# PTP from different teams which handle different inventory characteristics"
   ]
  },
  {
   "cell_type": "code",
   "execution_count": 79,
   "metadata": {},
   "outputs": [],
   "source": [
    "#Make Predictions Random Forest\n",
    "predictions = modelRF.predict(X_test)"
   ]
  },
  {
   "cell_type": "code",
   "execution_count": 80,
   "metadata": {},
   "outputs": [
    {
     "name": "stdout",
     "output_type": "stream",
     "text": [
      "R Squared: 0.996\n",
      "RMSE: 0.086\n"
     ]
    }
   ],
   "source": [
    "# Evaluate Results Random Forest\n",
    "predRsquared = r2_score(y_test,predictions)\n",
    "rmse = sqrt(mean_squared_error(y_test, predictions))\n",
    "print('R Squared: %.3f' % predRsquared)\n",
    "print('RMSE: %.3f' % rmse)"
   ]
  },
  {
   "cell_type": "code",
   "execution_count": 81,
   "metadata": {},
   "outputs": [
    {
     "data": {
      "image/png": "[encoded data removed]",
      "text/plain": [
       "<Figure size 432x288 with 1 Axes>"
      ]
     },
     "metadata": {
      "needs_background": "light"
     },
     "output_type": "display_data"
    }
   ],
   "source": [
    "plt.scatter(y_test, predictions, edgecolors=['blue','red'], alpha = 0.5)\n",
    "plt.xlabel('Ground Truth')\n",
    "plt.ylabel('Predictions')\n",
    "plt.show();"
   ]
  },
  {
   "cell_type": "code",
   "execution_count": 82,
   "metadata": {},
   "outputs": [
    {
     "name": "stdout",
     "output_type": "stream",
     "text": [
      "R Squared: -0.021\n",
      "RMSE: 1.406\n"
     ]
    }
   ],
   "source": [
    "#Make Predictions for Support Vector Regression\n",
    "\n",
    "predictions = modelSVR.predict(X_test)\n",
    "\n",
    "# Evaluating the Results \n",
    "\n",
    "predRsquared = r2_score(y_test,predictions)\n",
    "rmse = sqrt(mean_squared_error(y_test, predictions))\n",
    "print('R Squared: %.3f' % predRsquared)\n",
    "print('RMSE: %.3f' % rmse)"
   ]
  },
  {
   "cell_type": "code",
   "execution_count": 83,
   "metadata": {},
   "outputs": [
    {
     "data": {
      "image/png": "[encoded data removed]",
      "text/plain": [
       "<Figure size 432x288 with 1 Axes>"
      ]
     },
     "metadata": {
      "needs_background": "light"
     },
     "output_type": "display_data"
    }
   ],
   "source": [
    "plt.scatter(y_test, predictions, edgecolors=['blue','red'], alpha = 0.5)\n",
    "plt.xlabel('Ground Truth')\n",
    "plt.ylabel('Predictions')\n",
    "plt.show();"
   ]
  },
  {
   "cell_type": "code",
   "execution_count": 84,
   "metadata": {},
   "outputs": [
    {
     "name": "stdout",
     "output_type": "stream",
     "text": [
      "R Squared: 1.000\n",
      "RMSE: 0.000\n"
     ]
    }
   ],
   "source": [
    "#Make Predictions for Linear Regression\n",
    "\n",
    "# This model is overfitted --> do not recommend \n",
    "\n",
    "predictions = modelLR.predict(X_test)\n",
    "\n",
    "# Evaluating the Results \n",
    "\n",
    "predRsquared = r2_score(y_test,predictions)\n",
    "rmse = sqrt(mean_squared_error(y_test, predictions))\n",
    "print('R Squared: %.3f' % predRsquared)\n",
    "print('RMSE: %.3f' % rmse)"
   ]
  },
  {
   "cell_type": "code",
   "execution_count": 85,
   "metadata": {},
   "outputs": [
    {
     "data": {
      "image/png": "[encoded data removed]",
      "text/plain": [
       "<Figure size 432x288 with 1 Axes>"
      ]
     },
     "metadata": {
      "needs_background": "light"
     },
     "output_type": "display_data"
    }
   ],
   "source": [
    "plt.scatter(y_test, predictions, edgecolors=['blue','red'], alpha = 0.5)\n",
    "plt.xlabel('Ground Truth')\n",
    "plt.ylabel('Predictions')\n",
    "plt.show();"
   ]
  },
  {
   "cell_type": "code",
   "execution_count": 86,
   "metadata": {},
   "outputs": [],
   "source": [
    "# Feature Engineering"
   ]
  },
  {
   "cell_type": "code",
   "execution_count": 87,
   "metadata": {},
   "outputs": [],
   "source": [
    "# PCA feature engineering\n",
    "# PCA is a dimensionality reduction that identifies important relationships in our data, \n",
    "# transforms the existing data based on these relationships, and then quantifies the importance of these relationships\n",
    "# so we can keep the most important relationships and drop the others\n",
    "# Determines how much variation each principal component accounts for"
   ]
  },
  {
   "cell_type": "code",
   "execution_count": 88,
   "metadata": {},
   "outputs": [],
   "source": [
    "from sklearn.decomposition import PCA \n",
    "from sklearn import preprocessing "
   ]
  },
  {
   "cell_type": "code",
   "execution_count": 90,
   "metadata": {},
   "outputs": [
    {
     "name": "stdout",
     "output_type": "stream",
     "text": [
      "Summary of feature sample\n"
     ]
    },
    {
     "data": {
      "text/html": [
       "<div>\n",
       "<style scoped>\n",
       "    .dataframe tbody tr th:only-of-type {\n",
       "        vertical-align: middle;\n",
       "    }\n",
       "\n",
       "    .dataframe tbody tr th {\n",
       "        vertical-align: top;\n",
       "    }\n",
       "\n",
       "    .dataframe thead th {\n",
       "        text-align: right;\n",
       "    }\n",
       "</style>\n",
       "<table border=\"1\" class=\"dataframe\">\n",
       "  <thead>\n",
       "    <tr style=\"text-align: right;\">\n",
       "      <th></th>\n",
       "      <th>MONTH</th>\n",
       "      <th>WEEK DAY</th>\n",
       "      <th>PST TIME</th>\n",
       "      <th>DIALS</th>\n",
       "      <th>RPC</th>\n",
       "      <th>PTP</th>\n",
       "      <th>HEADCOUNT</th>\n",
       "      <th>PRD_HOURS</th>\n",
       "    </tr>\n",
       "  </thead>\n",
       "  <tbody>\n",
       "    <tr>\n",
       "      <td>0</td>\n",
       "      <td>1</td>\n",
       "      <td>3</td>\n",
       "      <td>5</td>\n",
       "      <td>2973</td>\n",
       "      <td>23</td>\n",
       "      <td>3</td>\n",
       "      <td>12</td>\n",
       "      <td>8.54</td>\n",
       "    </tr>\n",
       "    <tr>\n",
       "      <td>1</td>\n",
       "      <td>1</td>\n",
       "      <td>3</td>\n",
       "      <td>6</td>\n",
       "      <td>3014</td>\n",
       "      <td>24</td>\n",
       "      <td>1</td>\n",
       "      <td>11</td>\n",
       "      <td>7.52</td>\n",
       "    </tr>\n",
       "    <tr>\n",
       "      <td>2</td>\n",
       "      <td>1</td>\n",
       "      <td>3</td>\n",
       "      <td>7</td>\n",
       "      <td>3903</td>\n",
       "      <td>20</td>\n",
       "      <td>0</td>\n",
       "      <td>10</td>\n",
       "      <td>7.92</td>\n",
       "    </tr>\n",
       "    <tr>\n",
       "      <td>3</td>\n",
       "      <td>1</td>\n",
       "      <td>3</td>\n",
       "      <td>8</td>\n",
       "      <td>2919</td>\n",
       "      <td>31</td>\n",
       "      <td>2</td>\n",
       "      <td>13</td>\n",
       "      <td>8.08</td>\n",
       "    </tr>\n",
       "    <tr>\n",
       "      <td>4</td>\n",
       "      <td>1</td>\n",
       "      <td>3</td>\n",
       "      <td>9</td>\n",
       "      <td>1756</td>\n",
       "      <td>48</td>\n",
       "      <td>4</td>\n",
       "      <td>19</td>\n",
       "      <td>11.57</td>\n",
       "    </tr>\n",
       "  </tbody>\n",
       "</table>\n",
       "</div>"
      ],
      "text/plain": [
       "   MONTH  WEEK DAY  PST TIME  DIALS  RPC  PTP  HEADCOUNT  PRD_HOURS\n",
       "0      1         3         5   2973   23    3         12       8.54\n",
       "1      1         3         6   3014   24    1         11       7.52\n",
       "2      1         3         7   3903   20    0         10       7.92\n",
       "3      1         3         8   2919   31    2         13       8.08\n",
       "4      1         3         9   1756   48    4         19      11.57"
      ]
     },
     "execution_count": 90,
     "metadata": {},
     "output_type": "execute_result"
    }
   ],
   "source": [
    "# At this point I'm more interested in determining how strong is the relationships among variables than looking for a\n",
    "# better dataset/ optimized dataset to increase accuracy of the model \n",
    "\n",
    "# PCA analysis is a new skilled learned on the go, as this is not present in the plan of attack for previous cases  \n",
    "\n",
    "featuresPCA = overhead2\n",
    "print('Summary of feature sample')\n",
    "features.head()"
   ]
  },
  {
   "cell_type": "code",
   "execution_count": 96,
   "metadata": {},
   "outputs": [],
   "source": [
    "# Before we do PCS we need to center and scale the data\n",
    "\n",
    "scaled_data = preprocessing.scale(featuresPCA.T) # T as in transpose, this because we need data in rows not columns"
   ]
  },
  {
   "cell_type": "code",
   "execution_count": 97,
   "metadata": {},
   "outputs": [],
   "source": [
    "pca = PCA() # PCA in a data set, not in a machine learning setting \n",
    "pca.fit(scaled_data) # Calculate loading scores and the variation each principal component accounts for \n",
    "pca_data= pca.transform(scaled_data) # Generated coordinates for a PCA graph based on loading scores and the scaled data "
   ]
  },
  {
   "cell_type": "code",
   "execution_count": 103,
   "metadata": {},
   "outputs": [],
   "source": [
    "# draw a graph\n",
    "per_var = np.round(pca.explained_variance_ratio_* 100, decimals = 1) # calculate the percentage of variation\n",
    "                                                                     # that each principal component accounts for \n",
    "labels = ['PC' + str(x) for x in range(1, len(per_var)+1)] # Create labels for scree plot"
   ]
  },
  {
   "cell_type": "code",
   "execution_count": 104,
   "metadata": {},
   "outputs": [
    {
     "data": {
      "text/plain": [
       "PCA(copy=True, iterated_power='auto', n_components=None, random_state=None,\n",
       "    svd_solver='auto', tol=0.0, whiten=False)"
      ]
     },
     "execution_count": 104,
     "metadata": {},
     "output_type": "execute_result"
    }
   ],
   "source": [
    "pca"
   ]
  },
  {
   "cell_type": "code",
   "execution_count": 107,
   "metadata": {},
   "outputs": [
    {
     "data": {
      "image/png": "[encoded data removed]",
      "text/plain": [
       "<Figure size 432x288 with 1 Axes>"
      ]
     },
     "metadata": {
      "needs_background": "light"
     },
     "output_type": "display_data"
    }
   ],
   "source": [
    "plt.bar(x=range(1,len(per_var)+1), height = per_var, tick_label = labels)\n",
    "plt.ylabel('Percentage of Explained Variance')\n",
    "plt.xlabel('Principal Component')\n",
    "plt.title('Scree Plot')\n",
    "plt.show()\n",
    "\n",
    "# Almost all of the variation is along the first PC (principal component), \n",
    "# so PC1 should do a good job representing the original data "
   ]
  },
  {
   "cell_type": "code",
   "execution_count": 108,
   "metadata": {},
   "outputs": [],
   "source": [
    "pca_df = pd.DataFrame(pca_data, index=[featuresPCA], columns=labels)"
   ]
  },
  {
   "cell_type": "code",
   "execution_count": 109,
   "metadata": {},
   "outputs": [
    {
     "data": {
      "image/png": "[encoded data removed]",
      "text/plain": [
       "<Figure size 432x288 with 1 Axes>"
      ]
     },
     "metadata": {
      "needs_background": "light"
     },
     "output_type": "display_data"
    }
   ],
   "source": [
    "plt.scatter(pca_df.PC1, pca_df.PC2)\n",
    "plt.title('PCA Graph')\n",
    "plt.xlabel('PC1 - {0}%'.format(per_var[0]))\n",
    "plt.ylabel('PC2 - {0}%'.format(per_var[1]))\n",
    "\n",
    "for sample in pca_df.index:\n",
    "    plt.annotate(sample, (pca_df.PC1.loc[sample], pca_df.PC2.loc[sample]))"
   ]
  },
  {
   "cell_type": "code",
   "execution_count": 110,
   "metadata": {},
   "outputs": [
    {
     "data": {
      "text/html": [
       "<div>\n",
       "<style scoped>\n",
       "    .dataframe tbody tr th:only-of-type {\n",
       "        vertical-align: middle;\n",
       "    }\n",
       "\n",
       "    .dataframe tbody tr th {\n",
       "        vertical-align: top;\n",
       "    }\n",
       "\n",
       "    .dataframe thead th {\n",
       "        text-align: right;\n",
       "    }\n",
       "</style>\n",
       "<table border=\"1\" class=\"dataframe\">\n",
       "  <thead>\n",
       "    <tr style=\"text-align: right;\">\n",
       "      <th></th>\n",
       "      <th>PC1</th>\n",
       "      <th>PC2</th>\n",
       "      <th>PC3</th>\n",
       "      <th>PC4</th>\n",
       "      <th>PC5</th>\n",
       "      <th>PC6</th>\n",
       "      <th>PC7</th>\n",
       "      <th>PC8</th>\n",
       "    </tr>\n",
       "  </thead>\n",
       "  <tbody>\n",
       "    <tr>\n",
       "      <td>MONTH</td>\n",
       "      <td>-25.300766</td>\n",
       "      <td>4.938759</td>\n",
       "      <td>8.250265</td>\n",
       "      <td>-0.492522</td>\n",
       "      <td>-0.145181</td>\n",
       "      <td>-0.045711</td>\n",
       "      <td>-0.010491</td>\n",
       "      <td>-1.245531e-14</td>\n",
       "    </tr>\n",
       "    <tr>\n",
       "      <td>WEEK DAY</td>\n",
       "      <td>-26.082082</td>\n",
       "      <td>-0.277714</td>\n",
       "      <td>-0.592552</td>\n",
       "      <td>5.221282</td>\n",
       "      <td>0.111817</td>\n",
       "      <td>0.031563</td>\n",
       "      <td>-0.025679</td>\n",
       "      <td>-1.295491e-14</td>\n",
       "    </tr>\n",
       "    <tr>\n",
       "      <td>PST TIME</td>\n",
       "      <td>-23.131309</td>\n",
       "      <td>27.763531</td>\n",
       "      <td>-2.885085</td>\n",
       "      <td>-0.934648</td>\n",
       "      <td>-0.154599</td>\n",
       "      <td>-0.038655</td>\n",
       "      <td>0.001760</td>\n",
       "      <td>-4.579670e-15</td>\n",
       "    </tr>\n",
       "    <tr>\n",
       "      <td>DIALS</td>\n",
       "      <td>180.175768</td>\n",
       "      <td>-0.479770</td>\n",
       "      <td>0.000355</td>\n",
       "      <td>0.010659</td>\n",
       "      <td>-0.007138</td>\n",
       "      <td>-0.007941</td>\n",
       "      <td>0.002489</td>\n",
       "      <td>1.032785e-13</td>\n",
       "    </tr>\n",
       "    <tr>\n",
       "      <td>RPC</td>\n",
       "      <td>-25.805015</td>\n",
       "      <td>-8.216108</td>\n",
       "      <td>-1.234108</td>\n",
       "      <td>-1.004340</td>\n",
       "      <td>-0.904766</td>\n",
       "      <td>1.304705</td>\n",
       "      <td>-0.411650</td>\n",
       "      <td>-1.568190e-14</td>\n",
       "    </tr>\n",
       "    <tr>\n",
       "      <td>PTP</td>\n",
       "      <td>-27.278586</td>\n",
       "      <td>-9.074287</td>\n",
       "      <td>-1.321558</td>\n",
       "      <td>-0.722007</td>\n",
       "      <td>-1.291096</td>\n",
       "      <td>-0.306018</td>\n",
       "      <td>0.724458</td>\n",
       "      <td>-1.641742e-14</td>\n",
       "    </tr>\n",
       "    <tr>\n",
       "      <td>HEADCOUNT</td>\n",
       "      <td>-25.755557</td>\n",
       "      <td>-5.864665</td>\n",
       "      <td>-0.831334</td>\n",
       "      <td>-1.106149</td>\n",
       "      <td>2.360068</td>\n",
       "      <td>0.342668</td>\n",
       "      <td>0.246102</td>\n",
       "      <td>-1.719458e-14</td>\n",
       "    </tr>\n",
       "    <tr>\n",
       "      <td>PRD_HOURS</td>\n",
       "      <td>-26.822452</td>\n",
       "      <td>-8.789746</td>\n",
       "      <td>-1.385982</td>\n",
       "      <td>-0.972275</td>\n",
       "      <td>0.030895</td>\n",
       "      <td>-1.280611</td>\n",
       "      <td>-0.526988</td>\n",
       "      <td>-1.779132e-14</td>\n",
       "    </tr>\n",
       "  </tbody>\n",
       "</table>\n",
       "</div>"
      ],
      "text/plain": [
       "                  PC1        PC2       PC3       PC4       PC5       PC6  \\\n",
       "MONTH      -25.300766   4.938759  8.250265 -0.492522 -0.145181 -0.045711   \n",
       "WEEK DAY   -26.082082  -0.277714 -0.592552  5.221282  0.111817  0.031563   \n",
       "PST TIME   -23.131309  27.763531 -2.885085 -0.934648 -0.154599 -0.038655   \n",
       "DIALS      180.175768  -0.479770  0.000355  0.010659 -0.007138 -0.007941   \n",
       "RPC        -25.805015  -8.216108 -1.234108 -1.004340 -0.904766  1.304705   \n",
       "PTP        -27.278586  -9.074287 -1.321558 -0.722007 -1.291096 -0.306018   \n",
       "HEADCOUNT  -25.755557  -5.864665 -0.831334 -1.106149  2.360068  0.342668   \n",
       "PRD_HOURS  -26.822452  -8.789746 -1.385982 -0.972275  0.030895 -1.280611   \n",
       "\n",
       "                PC7           PC8  \n",
       "MONTH     -0.010491 -1.245531e-14  \n",
       "WEEK DAY  -0.025679 -1.295491e-14  \n",
       "PST TIME   0.001760 -4.579670e-15  \n",
       "DIALS      0.002489  1.032785e-13  \n",
       "RPC       -0.411650 -1.568190e-14  \n",
       "PTP        0.724458 -1.641742e-14  \n",
       "HEADCOUNT  0.246102 -1.719458e-14  \n",
       "PRD_HOURS -0.526988 -1.779132e-14  "
      ]
     },
     "execution_count": 110,
     "metadata": {},
     "output_type": "execute_result"
    }
   ],
   "source": [
    "pca_df"
   ]
  },
  {
   "cell_type": "code",
   "execution_count": null,
   "metadata": {},
   "outputs": [],
   "source": [
    "# As matter fact columns preserved from original data set does not have any relevance for modeling as observed in the \n",
    "# correlation matrix \n",
    "# Hence does not make sense to continue further with this approach as results will be very similar to\n",
    "# Regression Analysis with selected features \n",
    "# instead would suggest to test with more algorithms "
   ]
  }
 ],
 "metadata": {
  "kernelspec": {
   "display_name": "Python 3",
   "language": "python",
   "name": "python3"
  },
  "language_info": {
   "codemirror_mode": {
    "name": "ipython",
    "version": 3
   },
   "file_extension": ".py",
   "mimetype": "text/x-python",
   "name": "python",
   "nbconvert_exporter": "python",
   "pygments_lexer": "ipython3",
   "version": "3.7.4"
  }
 },
 "nbformat": 4,
 "nbformat_minor": 2
}
